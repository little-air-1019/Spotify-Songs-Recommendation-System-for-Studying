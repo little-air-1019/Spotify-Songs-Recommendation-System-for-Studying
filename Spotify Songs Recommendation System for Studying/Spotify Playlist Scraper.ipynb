{
 "cells": [
  {
   "cell_type": "code",
   "execution_count": 5,
   "metadata": {},
   "outputs": [],
   "source": [
    "# !pip3 install spotipy"
   ]
  },
  {
   "cell_type": "code",
   "execution_count": 6,
   "metadata": {},
   "outputs": [],
   "source": [
    "import spotipy\n",
    "from spotipy.oauth2 import SpotifyClientCredentials\n",
    "import json\n",
    "import pandas as pd\n",
    "\n",
    "import warnings\n",
    "warnings.filterwarnings('ignore')"
   ]
  },
  {
   "cell_type": "markdown",
   "metadata": {},
   "source": [
    "## Get Artist Album Names"
   ]
  },
  {
   "cell_type": "code",
   "execution_count": 7,
   "metadata": {},
   "outputs": [],
   "source": [
    "# def get_artist_albums(artist_uri = '06HL4z0CvFAxyc27GXpf02'):\n",
    "#     client_id = 'a941eab8b8e6404da043b09aa964d40e'\n",
    "#     client_secret = '0d1c6b15d4b1414287f95828356b6684'\n",
    "#     artist_uri = 'spotify:artist:' + artist_uri\n",
    "#     client_credentials_manager = SpotifyClientCredentials(client_id = client_id, client_secret = client_secret)\n",
    "#     spotify = spotipy.Spotify(client_credentials_manager = client_credentials_manager)\n",
    "\n",
    "#     results = spotify.artist_albums(artist_uri, album_type='album')\n",
    "#     albums = results['items']\n",
    "#     while results['next']:\n",
    "#         results = spotify.next(results)\n",
    "#         albums.extend(results['items'])\n",
    "\n",
    "#     albums = [album['name'] for album in albums]\n",
    "#     albums = list(set(albums))\n",
    "#     for album in albums:\n",
    "#         print(album)\n",
    "\n",
    "# get_artist_albums()"
   ]
  },
  {
   "cell_type": "markdown",
   "metadata": {},
   "source": [
    "## Get Playlist Songs Info"
   ]
  },
  {
   "cell_type": "code",
   "execution_count": 8,
   "metadata": {},
   "outputs": [],
   "source": [
    "# Create client\n",
    "client_id = 'a941eab8b8e6404da043b09aa964d40e'\n",
    "client_secret = '0d1c6b15d4b1414287f95828356b6684'\n",
    "client_credentials_manager = SpotifyClientCredentials(client_id = client_id, client_secret = client_secret)\n",
    "sp = spotipy.Spotify(client_credentials_manager = client_credentials_manager)\n",
    "# Get playlist info\n",
    "def get_playlist(creator, playlist_id):\n",
    "    playlist_features_list = ['artist','album','track_name', 'track_id', 'danceability',\\\n",
    "                  'energy','key','loudness','mode', 'speechiness','instrumentalness',\\\n",
    "                  'liveness','valence','tempo', 'duration_ms','time_signature']\n",
    "    playlist_df = pd.DataFrame(columns = playlist_features_list)\n",
    "\n",
    "    playlist = sp.user_playlist_tracks(creator, playlist_id)['items']\n",
    "    for track in playlist:\n",
    "        playlist_features = {}\n",
    "        # Get metadata\n",
    "        try:\n",
    "            playlist_features['artist'] = track['track']['album']['artists'][0]['name']\n",
    "            playlist_features['album'] = track['track']['album']['name']\n",
    "            playlist_features['track_name'] = track['track']['name']\n",
    "            playlist_features['track_id'] = track['track']['id']\n",
    "        except TypeError:\n",
    "            continue\n",
    "        # Get audio features\n",
    "        audio_features = sp.audio_features(playlist_features['track_id'])[0]\n",
    "        for feature in playlist_features_list[4:]:\n",
    "                try:\n",
    "                    playlist_features[feature] = audio_features[feature]\n",
    "                except TypeError:\n",
    "                    continue\n",
    "        # # Concat the dfs\n",
    "        track_df = pd.DataFrame(playlist_features, index = [0])\n",
    "        playlist_df = pd.concat([playlist_df, track_df], ignore_index = True)\n",
    "\n",
    "\n",
    "    return playlist_df\n"
   ]
  },
  {
   "attachments": {},
   "cell_type": "markdown",
   "metadata": {},
   "source": [
    "## Get Studyplaylists"
   ]
  },
  {
   "cell_type": "code",
   "execution_count": 9,
   "metadata": {},
   "outputs": [],
   "source": [
    "# study mode\n",
    "# df = get_playlist(\"Spotify\", \"37i9dQZF1DWSSrwtip3vZP\")\n",
    "# df.to_excel(\"study mode.xlsx\")\n",
    "\n",
    "# Pop Study\n",
    "# df = get_playlist(\"Spotify\", \"37i9dQZF1DWSoyxGghlqv5\")\n",
    "# df.to_excel(\"Pop Study.xlsx\")\n",
    "\n",
    "# Intense Studying\n",
    "# df = get_playlist(\"Spotify\", \"37i9dQZF1DX8NTLI2TtZa6\")\n",
    "# df.to_excel(\"Intense Studying.xlsx\")\n",
    "\n",
    "# Study Lofi\n",
    "# df = get_playlist(\"Lofi Girl\", \"0vvXsWCC9xrXsKd4FyS8kM\")\n",
    "# df.to_excel(\"Study Lofi.xlsx\")\n",
    "\n",
    "# chill kpop study music\n",
    "# df = get_playlist(\"marija\", \"66Fcf7T9pGrsmuDFmMraQ3\")\n",
    "# df.to_excel(\"chill kpop study music.xlsx\")\n",
    "\n",
    "# kpop study playlist\n",
    "# df = get_playlist(\":treese\", \"2bBIPXzFO7RqyV6lIuEmrc\")\n",
    "# df.to_excel(\"kpop study playlist.xlsx\")\n",
    "\n",
    "# productive study lofi\n",
    "# df = get_playlist(\"Etimology Lofi\", \"3WLDIcG4Cx2UOPy0rbFhQn\")\n",
    "# df.to_excel(\"productive study lofi.xlsx\")\n",
    "\n",
    "# Study lofi 2023\n",
    "# df = get_playlist(\"Chill Select\", \"66ObUW8grgqgWyFemzkWqm\")\n",
    "# df.to_excel(\"Study lofi 2023.xlsx\")\n",
    "\n",
    "# Study Beats 2023\n",
    "# df = get_playlist(\"Den Haku Lofi\", \"2yY00bSUHO0C7SROIPnts9\")\n",
    "# df.to_excel(\"Study Beats 2023.xlsx\")\n",
    "\n",
    "# Study Music 2023\n",
    "# df = get_playlist(\"Naeleck\", \"471N195f5jAVs086lzYglw\")\n",
    "# df.to_excel(\"Study Music 2023.xlsx\")"
   ]
  },
  {
   "attachments": {},
   "cell_type": "markdown",
   "metadata": {},
   "source": [
    "## Concat Playlists into a Dataset"
   ]
  },
  {
   "cell_type": "code",
   "execution_count": 10,
   "metadata": {},
   "outputs": [],
   "source": [
    "# import os\n",
    "\n",
    "# # Set the path to the folder\n",
    "# folder_path = \"/Users/little_air/Desktop/111-2/Python資料分析與機器學習應用/作業/Final Report\"\n",
    "\n",
    "# # List of xlsx files\n",
    "# dataframes = []\n",
    "\n",
    "# # Loop through all the files in the folder\n",
    "# for file_name in os.listdir(folder_path):\n",
    "    \n",
    "#     # Check if the file is an xlsx file\n",
    "#     if file_name.endswith(\".xlsx\"):\n",
    "        \n",
    "#         # Read the xlsx file into a dataframe\n",
    "#         file_path = os.path.join(folder_path, file_name)\n",
    "#         df = pd.read_excel(file_path)\n",
    "        \n",
    "#         # Add the dataframe to the list of dataframes\n",
    "#         dataframes.append(df)\n",
    "\n",
    "# # Concatenate all the dataframes\n",
    "# concatenated_df = pd.concat(dataframes)\n",
    "# concatenated_df[\"good_for_study\"] = 1\n",
    "\n",
    "# output_path = os.path.join(folder_path, \"Study Playlist Dataset.xlsx\")\n",
    "# concatenated_df.to_excel(output_path, index=False)\n"
   ]
  },
  {
   "attachments": {},
   "cell_type": "markdown",
   "metadata": {},
   "source": [
    "## Get Non-Studyplaylist Songs"
   ]
  },
  {
   "cell_type": "code",
   "execution_count": 15,
   "metadata": {},
   "outputs": [],
   "source": [
    "df_kpop = get_playlist(\"Faramira\", \"61iOYD59VWPF0AQpqJaPot\")\n",
    "df_pop = get_playlist(\"maka_97\", \"6mtYuOxzl58vSGnEDtZ9uB\")\n",
    "df_hard_noisy_kpop = get_playlist(\"Aleksandra\", \"0tS7SxmGkC6XES3slqj0s3\")\n",
    "df_2023 = get_playlist(\"partyfiesta!\", \"3Me7esQS0xZkSbW0XW7roB\")\n",
    "df_wor_k_out = get_playlist(\"Spotify\", \"37i9dQZF1DX3ZeFHRhhi7Y\")\n",
    "df_workout_pop_mix = get_playlist(\"Spotify\", \"37i9dQZF1EIgSjgoYBB2M6\")\n",
    "df_workout_hits = get_playlist(\"Spotify\", \"37i9dQZF1DWVceftBh0Ubl\")\n",
    "df_beast_mode = get_playlist(\"Spotify\", \"37i9dQZF1DX76Wlfdnj7AP\")\n",
    "df_noisy = get_playlist(\"Spotify\", \"37i9dQZF1DX98f0uoU1Pcs\")\n",
    "\n",
    "concatenated_df = pd.concat([df_kpop, df_pop, df_hard_noisy_kpop, df_2023, df_wor_k_out, \n",
    "                             df_workout_pop_mix, df_workout_hits, df_beast_mode, df_noisy])\n",
    "concatenated_df[\"good_for_study\"] = 0\n",
    "concatenated_df.to_excel(\"Non Study Playlist Dataset.xlsx\", index=False)"
   ]
  }
 ],
 "metadata": {
  "kernelspec": {
   "display_name": "Python 3 (ipykernel)",
   "language": "python",
   "name": "python3"
  },
  "language_info": {
   "codemirror_mode": {
    "name": "ipython",
    "version": 3
   },
   "file_extension": ".py",
   "mimetype": "text/x-python",
   "name": "python",
   "nbconvert_exporter": "python",
   "pygments_lexer": "ipython3",
   "version": "3.9.12"
  }
 },
 "nbformat": 4,
 "nbformat_minor": 2
}
